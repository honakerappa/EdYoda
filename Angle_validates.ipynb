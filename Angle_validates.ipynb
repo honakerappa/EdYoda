{
 "cells": [
  {
   "cell_type": "markdown",
   "id": "383334b1",
   "metadata": {},
   "source": [
    "Your task is to complete the validate_triangle and validate_rectangle functions for the classes.Hint for validating is given in the\n",
    "\n",
    "comments of the code. Also you will have to print the following after validation in respective functions:-\n",
    "\n",
    "1.Invalid Triangle: If the triangle sum property of sides is not valid(More hint in the comments of code)\n",
    "\n",
    "2.Valid Triangle:If the triangle sum property of sides is valid.\n",
    "\n",
    "3.Valid Rectangle:If 2 side pairs are same and they are input in correct order like l,b,l,b\n",
    "\n",
    "4.Invalid Rectangle: If Not Valid rectangle as stated above.\n",
    "\n",
    "Input Format:\n",
    "\n",
    "The side length of triangle followed by for rectangle in the next line in order.\n",
    "\n",
    "Output Format:\n",
    "\n",
    "since object are created in order, so first validate info about triangle will come and than rectangle.\n",
    "\n",
    "Sample Input 0:\n",
    "\n",
    "3 4 5\n",
    "\n",
    "2 4 2 4\n",
    "\n",
    "Sample Output 0:\n",
    "\n",
    "Valid Triangle\n",
    "\n",
    "Valid Rectangle"
   ]
  },
  {
   "cell_type": "code",
   "execution_count": null,
   "id": "21034811",
   "metadata": {},
   "outputs": [],
   "source": []
  },
  {
   "cell_type": "code",
   "execution_count": 23,
   "id": "0f7b8a5b",
   "metadata": {},
   "outputs": [
    {
     "name": "stdout",
     "output_type": "stream",
     "text": [
      "Triangle side a : 3\n",
      "Triangle side b :  4\n",
      "Triangle side c : 5\n",
      "Rectangle side length 1 :2\n",
      "Rectangle side length 2 :4\n",
      "Rectangle side width 1 :2\n",
      "Rectangle side width 2 :4\n",
      "Valid triangle\n",
      "Valid rectangle\n"
     ]
    }
   ],
   "source": [
    "class validate_angle():\n",
    "    def triangle(self,a,b,c ):\n",
    "        self.a= a\n",
    "        self.b=b\n",
    "        self.c = c\n",
    "        if a+b>=c and b+c>=a and c+a>=b: \n",
    "            print(\"Valid triangle\")\n",
    "        else:\n",
    "            print(\"Not Valid triangle\")\n",
    "    def rectangle(self,l1,l2,w1,w2):\n",
    "        self.l1= l1\n",
    "        self.l2=b=l2\n",
    "        self.w1 = w1\n",
    "        self.w2= w2\n",
    "        if l1==l2 or w1==w2 or l1==w1 or l1==w2 or l2==w2 or l2==w1:\n",
    "            print(\"Valid rectangle\")\n",
    "        else:\n",
    "            print(\"Not Valid rectangle\")\n",
    "a = float(input(\"Triangle side a : \"))\n",
    "b= float(input(\"Triangle side b :  \"))\n",
    "c= float (input(\"Triangle side c : \"))\n",
    "l1 = d=float(input(\"Rectangle side length 1 :\"))\n",
    "l2 = d=float(input(\"Rectangle side length 2 :\"))\n",
    "w1 = d=float(input(\"Rectangle side width 1 :\"))\n",
    "w2 = d=float(input(\"Rectangle side width 2 :\"))\n",
    "fg=validate_angle()\n",
    "fg.triangle(a,b,c)\n",
    "fg.rectangle(l1,l2,w1,w2)"
   ]
  },
  {
   "cell_type": "code",
   "execution_count": null,
   "id": "287f546a",
   "metadata": {},
   "outputs": [],
   "source": []
  }
 ],
 "metadata": {
  "kernelspec": {
   "display_name": "Python 3 (ipykernel)",
   "language": "python",
   "name": "python3"
  },
  "language_info": {
   "codemirror_mode": {
    "name": "ipython",
    "version": 3
   },
   "file_extension": ".py",
   "mimetype": "text/x-python",
   "name": "python",
   "nbconvert_exporter": "python",
   "pygments_lexer": "ipython3",
   "version": "3.9.12"
  }
 },
 "nbformat": 4,
 "nbformat_minor": 5
}
