{
 "cells": [
  {
   "cell_type": "markdown",
   "id": "3aea2eb5",
   "metadata": {},
   "source": [
    "Python Candidates - Question 1\n",
    "\n",
    "You will have a number of elements and in the next n lines element of a list. You have to create a list from the given strings. You have to sort the list based on 2nd last character of a string.\n",
    "\n",
    "For example: given list = ['great','hello','hiyo','abc'] so your output_dictionary should be ['great', 'abc', 'hello','hiyo']\n",
    "\n",
    "Input Format:\n",
    "\n",
    "At first-line it will have an integer (number of elements inside a list). In the second line, it will have a string.\n",
    "\n",
    "Output Format:\n",
    "\n",
    "A single line containing a sorted list."
   ]
  },
  {
   "cell_type": "code",
   "execution_count": 21,
   "id": "87888c04",
   "metadata": {},
   "outputs": [
    {
     "name": "stdout",
     "output_type": "stream",
     "text": [
      "number of elements in list - 4\n",
      "Enter the string :great\n",
      "Enter the string :hello\n",
      "Enter the string :hiyo\n",
      "Enter the string :abc\n",
      "['great', 'abc', 'hello', 'hiyo']\n"
     ]
    }
   ],
   "source": [
    "def sorting(N, Given_list):\n",
    "    y=[]\n",
    "    count=65\n",
    "    while Given_list:\n",
    "        min = Given_list[0]\n",
    "        for i in Given_list:\n",
    "            if ord(min[-2]) >= ord(i[-2]):\n",
    "                min = i\n",
    "        y.append(min) \n",
    "        Given_list.remove(min)\n",
    "    print(y)\n",
    "    \n",
    "N= int(input(\"number of elements in list - \"))\n",
    "Given_list = []\n",
    "for i in range(N):\n",
    "    c = input('Enter the string :')\n",
    "    Given_list.append(c)\n",
    "sorting(N,Given_list)\n",
    "        \n",
    "        \n",
    "        \n",
    "    \n"
   ]
  },
  {
   "cell_type": "code",
   "execution_count": null,
   "id": "539e59e4",
   "metadata": {},
   "outputs": [],
   "source": []
  },
  {
   "cell_type": "code",
   "execution_count": null,
   "id": "1183814f",
   "metadata": {},
   "outputs": [],
   "source": []
  }
 ],
 "metadata": {
  "kernelspec": {
   "display_name": "Python 3 (ipykernel)",
   "language": "python",
   "name": "python3"
  },
  "language_info": {
   "codemirror_mode": {
    "name": "ipython",
    "version": 3
   },
   "file_extension": ".py",
   "mimetype": "text/x-python",
   "name": "python",
   "nbconvert_exporter": "python",
   "pygments_lexer": "ipython3",
   "version": "3.9.12"
  }
 },
 "nbformat": 4,
 "nbformat_minor": 5
}
