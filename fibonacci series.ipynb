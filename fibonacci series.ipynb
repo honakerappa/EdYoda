{
 "cells": [
  {
   "cell_type": "code",
   "execution_count": 3,
   "id": "81468a22",
   "metadata": {},
   "outputs": [
    {
     "name": "stdout",
     "output_type": "stream",
     "text": [
      "Incorrect input\n",
      "None\n"
     ]
    }
   ],
   "source": [
    "def Fibonacci(n):\n",
    "    if n<= 0:\n",
    "        print(\"Incorrect input\")\n",
    "    elif n == 1:\n",
    "        return 0\n",
    "    elif n == 2:\n",
    "        return 1\n",
    "    else:\n",
    "        return Fibonacci(n-1)+Fibonacci(n-2)\n",
    " \n",
    "print(Fibonacci(0))"
   ]
  },
  {
   "cell_type": "code",
   "execution_count": null,
   "id": "62ecb5af",
   "metadata": {},
   "outputs": [],
   "source": []
  }
 ],
 "metadata": {
  "kernelspec": {
   "display_name": "Python 3 (ipykernel)",
   "language": "python",
   "name": "python3"
  },
  "language_info": {
   "codemirror_mode": {
    "name": "ipython",
    "version": 3
   },
   "file_extension": ".py",
   "mimetype": "text/x-python",
   "name": "python",
   "nbconvert_exporter": "python",
   "pygments_lexer": "ipython3",
   "version": "3.9.12"
  }
 },
 "nbformat": 4,
 "nbformat_minor": 5
}
